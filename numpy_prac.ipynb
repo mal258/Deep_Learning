{
  "nbformat": 4,
  "nbformat_minor": 0,
  "metadata": {
    "colab": {
      "name": "numpy_prac.ipynb",
      "provenance": [],
      "authorship_tag": "ABX9TyPFaE+O/4YKkBaxfKkl/Zh8",
      "include_colab_link": true
    },
    "kernelspec": {
      "name": "python3",
      "display_name": "Python 3"
    },
    "accelerator": "GPU"
  },
  "cells": [
    {
      "cell_type": "markdown",
      "metadata": {
        "id": "view-in-github",
        "colab_type": "text"
      },
      "source": [
        "<a href=\"https://colab.research.google.com/github/shreyus3003/Deep_Learning/blob/master/numpy_prac.ipynb\" target=\"_parent\"><img src=\"https://colab.research.google.com/assets/colab-badge.svg\" alt=\"Open In Colab\"/></a>"
      ]
    },
    {
      "cell_type": "code",
      "metadata": {
        "id": "QbHBgJg_O2f3",
        "colab_type": "code",
        "colab": {}
      },
      "source": [
        "import numpy as np"
      ],
      "execution_count": 0,
      "outputs": []
    },
    {
      "cell_type": "code",
      "metadata": {
        "id": "TfXtghnTo_uh",
        "colab_type": "code",
        "colab": {
          "base_uri": "https://localhost:8080/",
          "height": 51
        },
        "outputId": "edae3a3b-893a-4729-bd32-2218a8389d33"
      },
      "source": [
        "a = np.array([0,1,2])\n",
        "b = np.array([5,5,5])\n",
        "print(a + b)\n",
        "print(a+5)"
      ],
      "execution_count": 30,
      "outputs": [
        {
          "output_type": "stream",
          "text": [
            "[5 6 7]\n",
            "[5 6 7]\n"
          ],
          "name": "stdout"
        }
      ]
    },
    {
      "cell_type": "code",
      "metadata": {
        "id": "97p7M95Qp7Nn",
        "colab_type": "code",
        "colab": {
          "base_uri": "https://localhost:8080/",
          "height": 119
        },
        "outputId": "f6e29c83-7abb-46b3-a821-fabd9eca5eb0"
      },
      "source": [
        "M = np.ones((3,3))\n",
        "print(M) \n",
        "M +a"
      ],
      "execution_count": 31,
      "outputs": [
        {
          "output_type": "stream",
          "text": [
            "[[1. 1. 1.]\n",
            " [1. 1. 1.]\n",
            " [1. 1. 1.]]\n"
          ],
          "name": "stdout"
        },
        {
          "output_type": "execute_result",
          "data": {
            "text/plain": [
              "array([[1., 2., 3.],\n",
              "       [1., 2., 3.],\n",
              "       [1., 2., 3.]])"
            ]
          },
          "metadata": {
            "tags": []
          },
          "execution_count": 31
        }
      ]
    },
    {
      "cell_type": "code",
      "metadata": {
        "id": "PC5B7dQSqI9e",
        "colab_type": "code",
        "colab": {
          "base_uri": "https://localhost:8080/",
          "height": 102
        },
        "outputId": "9dfa92a9-893c-40cc-c92b-d971cf8089b7"
      },
      "source": [
        "a = np.arange(3)\n",
        "c = np.arange(4)\n",
        "b = np.arange(3)[:, np.newaxis]\n",
        "print(a)\n",
        "print(b)\n",
        "print(c)"
      ],
      "execution_count": 32,
      "outputs": [
        {
          "output_type": "stream",
          "text": [
            "[0 1 2]\n",
            "[[0]\n",
            " [1]\n",
            " [2]]\n",
            "[0 1 2 3]\n"
          ],
          "name": "stdout"
        }
      ]
    },
    {
      "cell_type": "code",
      "metadata": {
        "id": "AzBYf6elqRvI",
        "colab_type": "code",
        "colab": {
          "base_uri": "https://localhost:8080/",
          "height": 68
        },
        "outputId": "6f52929a-6454-46b7-ea64-bd1ee148acbc"
      },
      "source": [
        "a + b"
      ],
      "execution_count": 33,
      "outputs": [
        {
          "output_type": "execute_result",
          "data": {
            "text/plain": [
              "array([[0, 1, 2],\n",
              "       [1, 2, 3],\n",
              "       [2, 3, 4]])"
            ]
          },
          "metadata": {
            "tags": []
          },
          "execution_count": 33
        }
      ]
    },
    {
      "cell_type": "code",
      "metadata": {
        "id": "WDG7w2aOw11q",
        "colab_type": "code",
        "colab": {
          "base_uri": "https://localhost:8080/",
          "height": 34
        },
        "outputId": "cc42d6ee-9ae0-4f22-a4dd-d71eae492d1d"
      },
      "source": [
        "M = np.ones((2,3))\n",
        "a = np.arange(3)\n",
        "M.shape\n",
        "a.shape"
      ],
      "execution_count": 34,
      "outputs": [
        {
          "output_type": "execute_result",
          "data": {
            "text/plain": [
              "(3,)"
            ]
          },
          "metadata": {
            "tags": []
          },
          "execution_count": 34
        }
      ]
    },
    {
      "cell_type": "code",
      "metadata": {
        "id": "BlBX_u50xleM",
        "colab_type": "code",
        "colab": {
          "base_uri": "https://localhost:8080/",
          "height": 51
        },
        "outputId": "b61ba3cf-5e78-4580-840b-1cc58151fde2"
      },
      "source": [
        "M +a "
      ],
      "execution_count": 35,
      "outputs": [
        {
          "output_type": "execute_result",
          "data": {
            "text/plain": [
              "array([[1., 2., 3.],\n",
              "       [1., 2., 3.]])"
            ]
          },
          "metadata": {
            "tags": []
          },
          "execution_count": 35
        }
      ]
    },
    {
      "cell_type": "code",
      "metadata": {
        "id": "oDCriDmDrhgm",
        "colab_type": "code",
        "colab": {
          "base_uri": "https://localhost:8080/",
          "height": 68
        },
        "outputId": "419d08c5-704c-462e-868c-298f3e6413a1"
      },
      "source": [
        "M = np.array((3,2))\n",
        "a = np.arange(3)\n",
        "M + a[:, np.newaxis]"
      ],
      "execution_count": 36,
      "outputs": [
        {
          "output_type": "execute_result",
          "data": {
            "text/plain": [
              "array([[3, 2],\n",
              "       [4, 3],\n",
              "       [5, 4]])"
            ]
          },
          "metadata": {
            "tags": []
          },
          "execution_count": 36
        }
      ]
    },
    {
      "cell_type": "code",
      "metadata": {
        "id": "U-_q00h1sLoe",
        "colab_type": "code",
        "colab": {
          "base_uri": "https://localhost:8080/",
          "height": 187
        },
        "outputId": "e3cc476e-007b-43b7-d117-f66bebaf8678"
      },
      "source": [
        "a = np.arange(3).reshape((3,1))\n",
        "b = np.arange(3)\n",
        "print(a)\n",
        "print(b)\n",
        "print(a * b)\n",
        "print(a +b)"
      ],
      "execution_count": 37,
      "outputs": [
        {
          "output_type": "stream",
          "text": [
            "[[0]\n",
            " [1]\n",
            " [2]]\n",
            "[0 1 2]\n",
            "[[0 0 0]\n",
            " [0 1 2]\n",
            " [0 2 4]]\n",
            "[[0 1 2]\n",
            " [1 2 3]\n",
            " [2 3 4]]\n"
          ],
          "name": "stdout"
        }
      ]
    },
    {
      "cell_type": "code",
      "metadata": {
        "id": "WLgI_hQqw9tX",
        "colab_type": "code",
        "colab": {
          "base_uri": "https://localhost:8080/",
          "height": 187
        },
        "outputId": "c977e787-fdd5-4bb9-a882-9594e327ddb5"
      },
      "source": [
        "X = np.random.random((10,3))\n",
        "X"
      ],
      "execution_count": 38,
      "outputs": [
        {
          "output_type": "execute_result",
          "data": {
            "text/plain": [
              "array([[0.51733612, 0.96174194, 0.41414203],\n",
              "       [0.98331111, 0.16017574, 0.98592421],\n",
              "       [0.22991048, 0.50023615, 0.49669132],\n",
              "       [0.29807077, 0.94581662, 0.45310612],\n",
              "       [0.03504082, 0.28947966, 0.97793944],\n",
              "       [0.04192468, 0.0967417 , 0.17899729],\n",
              "       [0.46415085, 0.42392471, 0.84761263],\n",
              "       [0.33765153, 0.3838545 , 0.19674133],\n",
              "       [0.92149918, 0.32037187, 0.52480403],\n",
              "       [0.42241455, 0.24862208, 0.33162141]])"
            ]
          },
          "metadata": {
            "tags": []
          },
          "execution_count": 38
        }
      ]
    },
    {
      "cell_type": "code",
      "metadata": {
        "id": "tcgEeHrizEQ3",
        "colab_type": "code",
        "colab": {
          "base_uri": "https://localhost:8080/",
          "height": 34
        },
        "outputId": "b86bc969-f89d-4af1-d2ed-f74f1691da5c"
      },
      "source": [
        "xmean = X.mean(0)\n",
        "xmean"
      ],
      "execution_count": 39,
      "outputs": [
        {
          "output_type": "execute_result",
          "data": {
            "text/plain": [
              "array([0.42513101, 0.4330965 , 0.54075798])"
            ]
          },
          "metadata": {
            "tags": []
          },
          "execution_count": 39
        }
      ]
    },
    {
      "cell_type": "code",
      "metadata": {
        "id": "FX_Sv61m2TEu",
        "colab_type": "code",
        "colab": {
          "base_uri": "https://localhost:8080/",
          "height": 187
        },
        "outputId": "7bc21b0c-bf2c-444c-cd67-bb4be78d89f9"
      },
      "source": [
        "xcen =X-xmean\n",
        "xcen"
      ],
      "execution_count": 40,
      "outputs": [
        {
          "output_type": "execute_result",
          "data": {
            "text/plain": [
              "array([[ 0.09220511,  0.52864545, -0.12661596],\n",
              "       [ 0.5581801 , -0.27292076,  0.44516623],\n",
              "       [-0.19522053,  0.06713966, -0.04406667],\n",
              "       [-0.12706024,  0.51272012, -0.08765186],\n",
              "       [-0.39009019, -0.14361684,  0.43718146],\n",
              "       [-0.38320633, -0.3363548 , -0.36176069],\n",
              "       [ 0.03901984, -0.00917178,  0.30685465],\n",
              "       [-0.08747948, -0.049242  , -0.34401665],\n",
              "       [ 0.49636817, -0.11272462, -0.01595395],\n",
              "       [-0.00271646, -0.18447442, -0.20913657]])"
            ]
          },
          "metadata": {
            "tags": []
          },
          "execution_count": 40
        }
      ]
    },
    {
      "cell_type": "code",
      "metadata": {
        "id": "-zbtQ97R2WlA",
        "colab_type": "code",
        "colab": {
          "base_uri": "https://localhost:8080/",
          "height": 255
        },
        "outputId": "8aecbc4d-16d2-40f0-fc12-861711707d63"
      },
      "source": [
        "x1 = np.random.randint(10,size=(3,4,5))\n",
        "x1"
      ],
      "execution_count": 43,
      "outputs": [
        {
          "output_type": "execute_result",
          "data": {
            "text/plain": [
              "array([[[2, 9, 1, 8, 6],\n",
              "        [1, 3, 7, 9, 9],\n",
              "        [8, 9, 4, 0, 1],\n",
              "        [0, 7, 0, 2, 2]],\n",
              "\n",
              "       [[4, 2, 8, 4, 4],\n",
              "        [8, 2, 4, 7, 2],\n",
              "        [4, 1, 9, 3, 7],\n",
              "        [5, 0, 6, 3, 6]],\n",
              "\n",
              "       [[0, 3, 0, 6, 5],\n",
              "        [2, 2, 4, 9, 0],\n",
              "        [7, 7, 7, 3, 6],\n",
              "        [7, 3, 2, 1, 8]]])"
            ]
          },
          "metadata": {
            "tags": []
          },
          "execution_count": 43
        }
      ]
    },
    {
      "cell_type": "code",
      "metadata": {
        "id": "XcZ5xPJ0_RG7",
        "colab_type": "code",
        "colab": {
          "base_uri": "https://localhost:8080/",
          "height": 68
        },
        "outputId": "33068d32-aff3-4d9b-c3c8-9f49f2127b9d"
      },
      "source": [
        "x2 = np.random.randint(20, size=(3,4))\n",
        "x2"
      ],
      "execution_count": 50,
      "outputs": [
        {
          "output_type": "execute_result",
          "data": {
            "text/plain": [
              "array([[ 8,  0,  7, 14],\n",
              "       [12,  3,  2, 11],\n",
              "       [18, 13,  9,  1]])"
            ]
          },
          "metadata": {
            "tags": []
          },
          "execution_count": 50
        }
      ]
    },
    {
      "cell_type": "code",
      "metadata": {
        "id": "uCQMLQ32A2BO",
        "colab_type": "code",
        "colab": {
          "base_uri": "https://localhost:8080/",
          "height": 51
        },
        "outputId": "be076aad-f507-4f4c-8a67-7c09c45fa662"
      },
      "source": [
        "x = np.arange(10)\n",
        "print(x)\n",
        "x[5::-2]"
      ],
      "execution_count": 52,
      "outputs": [
        {
          "output_type": "stream",
          "text": [
            "[0 1 2 3 4 5 6 7 8 9]\n"
          ],
          "name": "stdout"
        },
        {
          "output_type": "execute_result",
          "data": {
            "text/plain": [
              "array([5, 3, 1])"
            ]
          },
          "metadata": {
            "tags": []
          },
          "execution_count": 52
        }
      ]
    },
    {
      "cell_type": "code",
      "metadata": {
        "id": "8-tuSKMlBimJ",
        "colab_type": "code",
        "colab": {
          "base_uri": "https://localhost:8080/",
          "height": 68
        },
        "outputId": "0c29e33e-baac-43aa-a7cb-22c77a2eef0c"
      },
      "source": [
        "x2[::-1,::-2]"
      ],
      "execution_count": 54,
      "outputs": [
        {
          "output_type": "execute_result",
          "data": {
            "text/plain": [
              "array([[ 1, 13],\n",
              "       [11,  3],\n",
              "       [14,  0]])"
            ]
          },
          "metadata": {
            "tags": []
          },
          "execution_count": 54
        }
      ]
    },
    {
      "cell_type": "code",
      "metadata": {
        "id": "CaeEmplAC7ed",
        "colab_type": "code",
        "colab": {}
      },
      "source": [
        ""
      ],
      "execution_count": 0,
      "outputs": []
    }
  ]
}